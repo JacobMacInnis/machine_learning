{
  "cells": [
    {
      "cell_type": "markdown",
      "source": [
        "## Linear Regression Health Costs Calculator\n",
        "\n",
        "In this challenge, you will predict healthcare costs using a regression algorithm.\n",
        "\n",
        "You are given a dataset that contains information about different people including their healthcare costs. Use the data to predict healthcare costs based on new data.\n",
        "\n",
        "The first two cells of this notebook import libraries and the data.\n",
        "\n",
        "Make sure to convert categorical data to numbers. Use 80% of the data as the `train_dataset` and 20% of the data as the `test_dataset`.\n",
        "\n",
        "`pop` off the \"expenses\" column from these datasets to create new datasets called `train_labels` and `test_labels`. Use these labels when training your model.\n",
        "\n",
        "Create a model and train it with the `train_dataset`. Run the final cell in this notebook to check your model. The final cell will use the unseen `test_dataset` to check how well the model generalizes.\n",
        "\n",
        "To pass the challenge, `model.evaluate` must return a Mean Absolute Error of under 3500. This means it predicts health care costs correctly within $3500.\n",
        "\n",
        "The final cell will also predict expenses using the `test_dataset` and graph the results."
      ],
      "metadata": {
        "id": "1p2EvVOqhaNY"
      }
    },
    {
      "cell_type": "markdown",
      "source": [
        "### Imports"
      ],
      "metadata": {
        "id": "jNoVDYiEh7Tv"
      }
    },
    {
      "cell_type": "code",
      "execution_count": null,
      "metadata": {
        "id": "1rRo8oNqZ-Rj"
      },
      "outputs": [],
      "source": [
        "!pip install -q git+https://github.com/tensorflow/docs\n",
        "import matplotlib.pyplot as plt\n",
        "import numpy as np\n",
        "import pandas as pd\n",
        "\n",
        "try:\n",
        "  # %tensorflow_version only exists in Colab.\n",
        "  %tensorflow_version 2.x\n",
        "except Exception:\n",
        "  pass\n",
        "import tensorflow as tf\n",
        "\n",
        "from tensorflow import keras\n",
        "from tensorflow.keras import layers\n",
        "\n",
        "import tensorflow_docs as tfdocs\n",
        "import tensorflow_docs.plots\n",
        "import tensorflow_docs.modeling"
      ]
    },
    {
      "cell_type": "markdown",
      "source": [
        "### Load Dataset"
      ],
      "metadata": {
        "id": "RbeKjNAPiCfD"
      }
    },
    {
      "cell_type": "code",
      "execution_count": null,
      "metadata": {
        "id": "CiX2FI4gZtTt",
        "collapsed": true
      },
      "outputs": [],
      "source": [
        "# Import data\n",
        "!wget https://cdn.freecodecamp.org/project-data/health-costs/insurance.csv\n",
        "dataset = pd.read_csv('insurance.csv')\n",
        "dataset.tail()"
      ]
    },
    {
      "cell_type": "markdown",
      "source": [
        "### Data Evaluation and Exploring"
      ],
      "metadata": {
        "id": "Rfw1H0OJiQ4E"
      }
    },
    {
      "cell_type": "code",
      "execution_count": null,
      "metadata": {
        "id": "LcopvQh3X-kX",
        "collapsed": true
      },
      "outputs": [],
      "source": [
        "dataset.isnull().sum()"
      ]
    },
    {
      "cell_type": "code",
      "source": [
        "dataset.dtypes"
      ],
      "metadata": {
        "collapsed": true,
        "id": "tuWI4ugbVLID"
      },
      "execution_count": null,
      "outputs": []
    },
    {
      "cell_type": "code",
      "source": [
        "dataset.region.value_counts()"
      ],
      "metadata": {
        "id": "YrqIN2ClihiK"
      },
      "execution_count": null,
      "outputs": []
    },
    {
      "cell_type": "code",
      "source": [
        "temp_dataset = dataset.join(pd.get_dummies(dataset.region, prefix='region')).drop('region', axis=1)\n",
        "temp_dataset.head()"
      ],
      "metadata": {
        "id": "yiSe9Qs7inve"
      },
      "execution_count": null,
      "outputs": []
    },
    {
      "cell_type": "code",
      "source": [
        "temp_dataset."
      ],
      "metadata": {
        "id": "cgXyoyGQio46"
      },
      "execution_count": null,
      "outputs": []
    },
    {
      "cell_type": "code",
      "source": [
        "# Load the dataset\n",
        "!wget -q \"https://cdn.freecodecamp.org/project-data/health-costs/insurance.csv\"\n",
        "df = pd.read_csv(\"insurance.csv\")\n",
        "\n",
        "# Handle categorical variables\n",
        "# Region one-hot encoding\n",
        "df = df.join(pd.get_dummies(df.region, prefix='region')).drop('region', axis=1)\n",
        "\n",
        "# Convert 'sex' to numerical\n",
        "df['sex'] = df['sex'].astype('category').cat.codes\n",
        "\n",
        "# Convert 'smoker' to numerical\n",
        "df['smoker'] = df['smoker'].astype('category').cat.codes\n",
        "\n",
        "# Optional: Drop unused columns to match working example\n",
        "df.drop(['region_northeast', 'region_northwest', 'region_southeast', 'region_southwest'], axis=1, inplace=True)\n",
        "df.drop(['sex', 'children'], axis=1, inplace=True)\n",
        "\n",
        "# Shuffle and split\n",
        "df = df.sample(frac=1, random_state=42)\n",
        "size = int(len(df) * 0.2)\n",
        "train_dataset = df[:-size]\n",
        "test_dataset = df[-size:]\n",
        "\n",
        "# Extract labels\n",
        "train_labels = train_dataset['expenses']\n",
        "train_dataset = train_dataset.drop('expenses', axis=1)\n",
        "\n",
        "test_labels = test_dataset['expenses']\n",
        "test_dataset = test_dataset.drop('expenses', axis=1)\n",
        "\n",
        "# Define model\n",
        "model = tf.keras.models.Sequential([\n",
        "    tf.keras.layers.Input(shape=(train_dataset.shape[1],)),\n",
        "    tf.keras.layers.BatchNormalization(),\n",
        "    tf.keras.layers.Dense(64, activation='relu'),\n",
        "    tf.keras.layers.Dense(64, activation='relu'),\n",
        "    tf.keras.layers.Dense(1)\n",
        "])\n",
        "\n",
        "# Compile model\n",
        "model.compile(\n",
        "    optimizer=tf.keras.optimizers.RMSprop(learning_rate=0.01),\n",
        "    loss='mse',\n",
        "    metrics=['mae', 'mse']\n",
        ")\n",
        "\n",
        "# Training callback\n",
        "class EpochDots(tf.keras.callbacks.Callback):\n",
        "  def on_epoch_end(self, epoch, logs):\n",
        "    if epoch % 100 == 0:\n",
        "      print()\n",
        "      print('Epoch: {:d}, '.format(epoch), end='')\n",
        "      for name, value in sorted(logs.items()):\n",
        "        print('{}:{:0.4f}'.format(name, value), end=', ')\n",
        "      print()\n",
        "    print('.', end='')\n",
        "\n",
        "# Train\n",
        "model.fit(train_dataset, train_labels, epochs=1000, verbose=0, callbacks=[EpochDots()])\n"
      ],
      "metadata": {
        "id": "4VzyL5KtXUJC"
      },
      "execution_count": null,
      "outputs": []
    },
    {
      "cell_type": "code",
      "source": [
        "# Step 1: Download and load the dataset\n",
        "!wget -q \"https://cdn.freecodecamp.org/project-data/health-costs/insurance.csv\"\n",
        "import pandas as pd\n",
        "df = pd.read_csv(\"insurance.csv\")\n",
        "\n",
        "# Step 2: Handle categorical variables\n",
        "# Convert 'region' into separate columns (one-hot encoding)\n",
        "df = df.join(pd.get_dummies(df['region'], prefix='region')).drop('region', axis=1)\n",
        "\n",
        "# Convert 'sex' and 'smoker' from text to numeric codes\n",
        "df['sex'] = df['sex'].astype('category').cat.codes\n",
        "df['smoker'] = df['smoker'].astype('category').cat.codes\n",
        "\n",
        "# Optional: Drop columns that didn't help accuracy in experimentation\n",
        "df.drop(['region_northeast', 'region_northwest', 'region_southeast', 'region_southwest'], axis=1, inplace=True)\n",
        "df.drop(['sex', 'children'], axis=1, inplace=True)\n",
        "\n",
        "# Step 3: Shuffle and split the dataset (80% train, 20% test)\n",
        "df = df.sample(frac=1, random_state=42)  # shuffle the rows\n",
        "size = int(len(df) * 0.2)  # 20% for testing\n",
        "\n",
        "train_dataset = df[:-size]\n",
        "test_dataset = df[-size:]\n",
        "\n",
        "# Step 4: Separate labels (expenses) from features\n",
        "train_labels = train_dataset.pop('expenses')\n",
        "test_labels = test_dataset.pop('expenses')\n",
        "\n",
        "# Step 5: Define the model\n",
        "model = tf.keras.models.Sequential([\n",
        "    # Input layer: matches number of features\n",
        "    tf.keras.layers.Input(shape=(train_dataset.shape[1],)),\n",
        "\n",
        "    # BatchNormalization helps stabilize and speed up training\n",
        "    tf.keras.layers.BatchNormalization(),\n",
        "\n",
        "    # Hidden layers with ReLU activation\n",
        "    tf.keras.layers.Dense(64, activation='relu'),\n",
        "    tf.keras.layers.Dense(64, activation='relu'),\n",
        "\n",
        "    # Output layer: single prediction (regression output)\n",
        "    tf.keras.layers.Dense(1)\n",
        "])\n",
        "\n",
        "# Step 6: Compile the model\n",
        "# - Loss: Mean Squared Error (MSE) to penalize large errors\n",
        "# - Metrics: MAE is used to evaluate the challenge success\n",
        "model.compile(\n",
        "    optimizer=tf.keras.optimizers.RMSprop(learning_rate=0.01),\n",
        "    loss='mse',\n",
        "    metrics=['mae', 'mse']\n",
        ")\n",
        "\n",
        "\n",
        "# Custom callback to condense log output\n",
        "print_callback = keras.callbacks.LambdaCallback(\n",
        "    on_epoch_end=lambda epoch, logs:\n",
        "        print(f\"Epoch {epoch + 1}: loss={logs['loss']:.2f}, mae={logs['mae']:.2f}\")\n",
        "        if (epoch + 1) % 100 == 0 else None\n",
        ")\n",
        "\n",
        "\n",
        "# Step 7: Train the model with built-in progress\n",
        "# - verbose=1 shows a progress bar and loss/metrics per epoch\n",
        "# - You can reduce output with verbose=2 or 0 if desired\n",
        "model.fit(\n",
        "    train_dataset,\n",
        "    train_labels,\n",
        "    epochs=1000,\n",
        "    verbose=0,\n",
        "    callbacks=[print_callback]\n",
        ")\n"
      ],
      "metadata": {
        "id": "fzb67tlpeDGQ"
      },
      "execution_count": null,
      "outputs": []
    },
    {
      "cell_type": "code",
      "execution_count": null,
      "metadata": {
        "id": "Xe7RXH3N3CWU"
      },
      "outputs": [],
      "source": [
        "# RUN THIS CELL TO TEST YOUR MODEL. DO NOT MODIFY CONTENTS.\n",
        "# Test model by checking how well the model generalizes using the test set.\n",
        "loss, mae, mse = model.evaluate(test_dataset, test_labels, verbose=2)\n",
        "\n",
        "print(\"Testing set Mean Abs Error: {:5.2f} expenses\".format(mae))\n",
        "\n",
        "if mae < 3500:\n",
        "  print(\"You passed the challenge. Great job!\")\n",
        "else:\n",
        "  print(\"The Mean Abs Error must be less than 3500. Keep trying.\")\n",
        "\n",
        "# Plot predictions.\n",
        "test_predictions = model.predict(test_dataset).flatten()\n",
        "\n",
        "a = plt.axes(aspect='equal')\n",
        "plt.scatter(test_labels, test_predictions)\n",
        "plt.xlabel('True values (expenses)')\n",
        "plt.ylabel('Predictions (expenses)')\n",
        "lims = [0, 50000]\n",
        "plt.xlim(lims)\n",
        "plt.ylim(lims)\n",
        "_ = plt.plot(lims,lims)\n"
      ]
    }
  ],
  "metadata": {
    "colab": {
      "name": "fcc_predict_health_costs_with_regression.ipynb",
      "private_outputs": true,
      "provenance": [],
      "toc_visible": true,
      "gpuType": "T4"
    },
    "kernelspec": {
      "display_name": "Python 3",
      "name": "python3"
    },
    "accelerator": "GPU"
  },
  "nbformat": 4,
  "nbformat_minor": 0
}